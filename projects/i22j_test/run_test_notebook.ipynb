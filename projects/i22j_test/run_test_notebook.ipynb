{
 "cells": [
  {
   "cell_type": "code",
   "execution_count": 1,
   "metadata": {
    "scrolled": true
   },
   "outputs": [
    {
     "name": "stdout",
     "output_type": "stream",
     "text": [
      "('USB0::62700::60984::SDSMMEBC4R1071::0::INSTR', 'GPIB0::4::INSTR', 'GPIB0::5::INSTR', 'GPIB0::7::INSTR')\n",
      "FPGA\n",
      "CUR : 0.0\n",
      "VOLT: 0.0041\n",
      "\n",
      "DUMMY\n",
      "CUR : 0.0003\n",
      "VOLT: -0.0023\n",
      "\n",
      "IO\n",
      "CUR : -0.0001\n",
      "VOLT: 0.0004\n",
      "\n",
      "CLKGEN\n",
      "CUR : -0.0002\n",
      "VOLT: -0.0009\n"
     ]
    }
   ],
   "source": [
    "from power_control import *\n",
    "init_test(0.7)\n",
    "measure_all()"
   ]
  },
  {
   "cell_type": "code",
   "execution_count": 9,
   "metadata": {},
   "outputs": [
    {
     "data": {
      "text/plain": [
       "'C1:PAVA PER,2.50E-06S\\n'"
      ]
     },
     "execution_count": 9,
     "metadata": {},
     "output_type": "execute_result"
    }
   ],
   "source": [
    "osc.query(f'C1:PAVA? PER')"
   ]
  },
  {
   "cell_type": "code",
   "execution_count": 6,
   "metadata": {},
   "outputs": [],
   "source": [
    "autoset()"
   ]
  },
  {
   "cell_type": "code",
   "execution_count": 4,
   "metadata": {},
   "outputs": [
    {
     "name": "stdout",
     "output_type": "stream",
     "text": [
      "VOLTAGE: 0.7\n",
      "CURRENT: 0.1\n",
      "VOLTAGE: 0.85\n",
      "CURRENT: 0.5\n",
      "Channel 1 I, V: +1.05609800E-03;+8.48875100E-01\n",
      "\n",
      "Channel 1 I, V: +8.29613200E-04;+6.97957500E-01\n",
      "\n"
     ]
    }
   ],
   "source": [
    "init_test(0.7)\n",
    "set_voltage(supply_dummy_obfus, 1, 0.7)\n",
    "set_voltage(supply_io_top, 2, 0.85)\n",
    "turn_on(supply_io_top)\n",
    "turn_on(supply_dummy_obfus)"
   ]
  },
  {
   "cell_type": "code",
   "execution_count": 4,
   "metadata": {},
   "outputs": [
    {
     "name": "stdout",
     "output_type": "stream",
     "text": [
      "FPGA\n",
      "CUR : 0.0\n",
      "VOLT: 0.0041\n",
      "\n",
      "DUMMY\n",
      "CUR : 0.0008\n",
      "VOLT: 0.6976\n",
      "\n",
      "IO\n",
      "CUR : 0.0155\n",
      "VOLT: 1.8006\n",
      "\n",
      "CLKGEN\n",
      "CUR : 0.0011\n",
      "VOLT: 0.8491\n"
     ]
    }
   ],
   "source": [
    "measure_all()"
   ]
  },
  {
   "cell_type": "code",
   "execution_count": 15,
   "metadata": {},
   "outputs": [
    {
     "name": "stdout",
     "output_type": "stream",
     "text": [
      "VOLTAGE: 0.7\n",
      "CURRENT: 0.1\n",
      "Channel 1 I, V: +4.00044800E-04;+6.98111100E-01\n",
      "\n",
      "Channel 1 I, V: +1.14462200E-02;+7.03634900E-01\n",
      "\n"
     ]
    }
   ],
   "source": [
    "init_test(0.7)\n",
    "set_voltage(supply_fpga_sensor, 1, 0.7)\n",
    "turn_on(supply_io_top)\n",
    "turn_on(supply_fpga_sensor)"
   ]
  },
  {
   "cell_type": "code",
   "execution_count": 11,
   "metadata": {},
   "outputs": [
    {
     "name": "stdout",
     "output_type": "stream",
     "text": [
      "-2.47053500E-04;-9.68253000E-04\n",
      "\n",
      "+2.29686100E-04;-2.10357000E-03\n",
      "\n"
     ]
    }
   ],
   "source": [
    "turn_off(supply_io_top)\n",
    "turn_off(supply_dummy_obfus)"
   ]
  },
  {
   "cell_type": "code",
   "execution_count": null,
   "metadata": {},
   "outputs": [],
   "source": [
    "set_voltage(supply_io_top, 2, 0.7)\n",
    "set_voltage(supply_dummy_obfus, 1, 0.7)"
   ]
  },
  {
   "cell_type": "code",
   "execution_count": 23,
   "metadata": {},
   "outputs": [
    {
     "name": "stdout",
     "output_type": "stream",
     "text": [
      "FPGA\n",
      "CUR : 0.0077\n",
      "VOLT: 0.7035\n",
      "\n",
      "DUMMY\n",
      "CUR : 0.0003\n",
      "VOLT: -0.0022\n",
      "\n",
      "IO\n",
      "CUR : 0.0065\n",
      "VOLT: 1.801\n",
      "\n",
      "CLKGEN\n",
      "CUR : -0.0001\n",
      "VOLT: 0.698\n"
     ]
    }
   ],
   "source": [
    "measure_all()"
   ]
  },
  {
   "cell_type": "code",
   "execution_count": 125,
   "metadata": {},
   "outputs": [
    {
     "name": "stdout",
     "output_type": "stream",
     "text": [
      "0.0\n"
     ]
    }
   ],
   "source": [
    "query_voltage(supply_io_top)"
   ]
  },
  {
   "cell_type": "code",
   "execution_count": 30,
   "metadata": {},
   "outputs": [
    {
     "name": "stdout",
     "output_type": "stream",
     "text": [
      "VOLTAGE: 0.7\n",
      "CURRENT: 0.1\n"
     ]
    }
   ],
   "source": [
    "set_voltage(supply_fpga_sensor, 1, 0.7)"
   ]
  },
  {
   "cell_type": "code",
   "execution_count": 53,
   "metadata": {},
   "outputs": [
    {
     "name": "stdout",
     "output_type": "stream",
     "text": [
      "VOLTAGE: 0.7\n",
      "CURRENT: 0.1\n"
     ]
    }
   ],
   "source": [
    "set_voltage(supply_dummy_obfus, 1, 0.7)"
   ]
  },
  {
   "cell_type": "code",
   "execution_count": 42,
   "metadata": {},
   "outputs": [
    {
     "name": "stdout",
     "output_type": "stream",
     "text": [
      "VOLTAGE: 0.85\n",
      "CURRENT: 0.5\n"
     ]
    }
   ],
   "source": [
    "set_voltage(supply_io_top, 2, 0.85)"
   ]
  },
  {
   "cell_type": "code",
   "execution_count": 32,
   "metadata": {},
   "outputs": [
    {
     "name": "stdout",
     "output_type": "stream",
     "text": [
      "Channel 1 I, V: +1.33905700E-02;+7.03509400E-01\n",
      "\n"
     ]
    }
   ],
   "source": [
    "turn_on(supply_fpga_sensor)"
   ]
  },
  {
   "cell_type": "code",
   "execution_count": 43,
   "metadata": {},
   "outputs": [
    {
     "name": "stdout",
     "output_type": "stream",
     "text": [
      "-1.51761800E-04;+3.71174800E-03\n",
      "\n"
     ]
    }
   ],
   "source": [
    "turn_off(supply_fpga_sensor)"
   ]
  },
  {
   "cell_type": "code",
   "execution_count": 138,
   "metadata": {},
   "outputs": [
    {
     "name": "stdout",
     "output_type": "stream",
     "text": [
      "+8.50812100E-03;+7.68500900E-01\n",
      "\n"
     ]
    }
   ],
   "source": [
    "turn_on(supply_fpga_sensor)"
   ]
  },
  {
   "cell_type": "code",
   "execution_count": 54,
   "metadata": {},
   "outputs": [
    {
     "name": "stdout",
     "output_type": "stream",
     "text": [
      "Channel 1 I, V: +8.43247800E-04;+6.98351400E-01\n",
      "\n"
     ]
    }
   ],
   "source": [
    "turn_on(supply_dummy_obfus)"
   ]
  },
  {
   "cell_type": "code",
   "execution_count": 44,
   "metadata": {},
   "outputs": [
    {
     "name": "stdout",
     "output_type": "stream",
     "text": [
      "+2.43320800E-04;-1.90660500E-03\n",
      "\n"
     ]
    }
   ],
   "source": [
    "turn_off(supply_dummy_obfus)"
   ]
  },
  {
   "cell_type": "code",
   "execution_count": 129,
   "metadata": {},
   "outputs": [
    {
     "name": "stdout",
     "output_type": "stream",
     "text": [
      "VOLTAGE: 0.6\n",
      "CURRENT: 0.1\n"
     ]
    }
   ],
   "source": [
    "set_voltage(supply_fpga_sensor, 1, 0.6)"
   ]
  },
  {
   "cell_type": "code",
   "execution_count": 130,
   "metadata": {},
   "outputs": [
    {
     "name": "stdout",
     "output_type": "stream",
     "text": [
      "VOLTAGE: 0.7\n",
      "CURRENT: 0.5\n"
     ]
    }
   ],
   "source": [
    "set_voltage(supply_io_top, 2, 0.7)"
   ]
  },
  {
   "cell_type": "code",
   "execution_count": 122,
   "metadata": {},
   "outputs": [
    {
     "data": {
      "text/plain": [
       "(10, <StatusCode.success: 0>)"
      ]
     },
     "execution_count": 122,
     "metadata": {},
     "output_type": "execute_result"
    }
   ],
   "source": [
    "supply_dummy_obfus.write('INST:SEL OUT1')\n",
    "supply_dummy_obfus.write('VOLT 1.8')"
   ]
  },
  {
   "cell_type": "code",
   "execution_count": 120,
   "metadata": {},
   "outputs": [
    {
     "name": "stdout",
     "output_type": "stream",
     "text": [
      "VOLTAGE: 0.0\n",
      "CURRENT: 0.1\n",
      "VOLTAGE: 0.0\n",
      "CURRENT: 0.1\n",
      "VOLTAGE: 0.0\n",
      "CURRENT: 0.1\n",
      "VOLTAGE: 0.0\n",
      "CURRENT: 0.1\n",
      "VOLTAGE: 0.0\n",
      "CURRENT: 0.1\n",
      "VOLTAGE: 0.0\n",
      "CURRENT: 0.1\n",
      "VOLTAGE: 0.0\n",
      "CURRENT: 0.1\n",
      "VOLTAGE: 0.0\n",
      "CURRENT: 0.1\n",
      "VOLTAGE: 0.0\n",
      "CURRENT: 0.1\n",
      "VOLTAGE: 0.0\n",
      "CURRENT: 0.1\n",
      "VOLTAGE: 0.0\n",
      "CURRENT: 0.1\n",
      "VOLTAGE: 0.0\n",
      "CURRENT: 0.1\n",
      "VOLTAGE: 0.0\n",
      "CURRENT: 0.1\n",
      "VOLTAGE: 0.0\n",
      "CURRENT: 0.1\n",
      "VOLTAGE: 0.0\n",
      "CURRENT: 0.1\n",
      "VOLTAGE: 0.0\n",
      "CURRENT: 0.1\n",
      "VOLTAGE: 0.0\n",
      "CURRENT: 0.1\n",
      "VOLTAGE: 0.0\n",
      "CURRENT: 0.1\n",
      "VOLTAGE: 0.0\n",
      "CURRENT: 0.1\n",
      "VOLTAGE: 0.0\n",
      "CURRENT: 0.1\n",
      "VOLTAGE: 0.0\n",
      "CURRENT: 0.1\n",
      "VOLTAGE: 0.0\n",
      "CURRENT: 0.1\n",
      "VOLTAGE: 0.0\n",
      "CURRENT: 0.1\n",
      "VOLTAGE: 0.0\n",
      "CURRENT: 0.1\n",
      "VOLTAGE: 0.0\n",
      "CURRENT: 0.1\n",
      "VOLTAGE: 0.0\n",
      "CURRENT: 0.1\n",
      "VOLTAGE: 0.0\n",
      "CURRENT: 0.1\n",
      "VOLTAGE: 0.0\n",
      "CURRENT: 0.1\n",
      "VOLTAGE: 0.0\n",
      "CURRENT: 0.1\n",
      "VOLTAGE: 0.0\n",
      "CURRENT: 0.1\n",
      "VOLTAGE: 0.0\n",
      "CURRENT: 0.1\n"
     ]
    }
   ],
   "source": [
    "for i in range(31):\n",
    "    time.sleep(0.25)\n",
    "    set_voltage(supply_dummy_obfus, 1, 0)\n",
    "    time.sleep(0.25)\n",
    "    supply_dummy_obfus.write('INST:SEL OUT1')\n",
    "    supply_dummy_obfus.write('VOLT 1.8')"
   ]
  },
  {
   "cell_type": "code",
   "execution_count": 109,
   "metadata": {},
   "outputs": [],
   "source": [
    "import time"
   ]
  },
  {
   "cell_type": "code",
   "execution_count": 18,
   "metadata": {},
   "outputs": [
    {
     "name": "stdout",
     "output_type": "stream",
     "text": [
      "CORE\n",
      "CUR : 0.0206\n",
      "VOLT: 0.7036\n",
      "\n",
      "TEST\n",
      "CUR : 0.0041\n",
      "VOLT: 0.0037\n",
      "\n",
      "IO3.3\n",
      "CUR : 0.0143\n",
      "VOLT: 1.8008\n",
      "\n",
      "IO1.8\n",
      "CUR : 0.0004\n",
      "VOLT: 0.698\n"
     ]
    }
   ],
   "source": [
    "measure_all()"
   ]
  },
  {
   "cell_type": "code",
   "execution_count": 303,
   "metadata": {},
   "outputs": [
    {
     "name": "stdout",
     "output_type": "stream",
     "text": [
      "120.0\n",
      "1.0\n"
     ]
    }
   ],
   "source": [
    "set_freq(120)\n",
    "time.sleep(0.5)\n",
    "func_gen.write('OUTP1:DIV 1')\n",
    "print(float(func_gen.query('FREQ?'))/1000000)\n",
    "print(float(func_gen.query('OUTP1:DIV?')))\n",
    "time.sleep(0.5)\n",
    "turn_on(func_gen)\n",
    "time.sleep(0.5)\n",
    "turn_on(func_gen)"
   ]
  },
  {
   "cell_type": "code",
   "execution_count": 46,
   "metadata": {
    "scrolled": true
   },
   "outputs": [
    {
     "ename": "NameError",
     "evalue": "name 'turn_on_iotest' is not defined",
     "output_type": "error",
     "traceback": [
      "\u001b[0;31m---------------------------------------------------------------------------\u001b[0m",
      "\u001b[0;31mNameError\u001b[0m                                 Traceback (most recent call last)",
      "\u001b[0;32m<ipython-input-46-cef428639d8c>\u001b[0m in \u001b[0;36m<module>\u001b[0;34m()\u001b[0m\n\u001b[0;32m----> 1\u001b[0;31m \u001b[0mturn_on_iotest\u001b[0m\u001b[0;34m(\u001b[0m\u001b[0;34m)\u001b[0m\u001b[0;34m\u001b[0m\u001b[0m\n\u001b[0m",
      "\u001b[0;31mNameError\u001b[0m: name 'turn_on_iotest' is not defined"
     ]
    }
   ],
   "source": [
    "turn_on_iotest()"
   ]
  },
  {
   "cell_type": "code",
   "execution_count": 297,
   "metadata": {},
   "outputs": [
    {
     "name": "stdout",
     "output_type": "stream",
     "text": [
      "VOLTAGE: 0.73\n",
      "CURRENT: 0.1\n",
      "VOLTAGE: 0.7\n",
      "CURRENT: 0.1\n"
     ]
    }
   ],
   "source": [
    "set_voltage(supply_test, 0.73)\n",
    "set_voltage(supply_core, 0.7)\n",
    "#turn_on_core()"
   ]
  },
  {
   "cell_type": "code",
   "execution_count": 309,
   "metadata": {},
   "outputs": [],
   "source": [
    "rm.close()"
   ]
  },
  {
   "cell_type": "code",
   "execution_count": 133,
   "metadata": {},
   "outputs": [
    {
     "name": "stdout",
     "output_type": "stream",
     "text": [
      "CORE\n",
      "CUR : 0.008\n",
      "VOLT: 0.6037\n",
      "\n",
      "TEST\n",
      "CUR : 0.0041\n",
      "VOLT: 0.0036\n",
      "\n",
      "IO3.3\n",
      "CUR : 0.0155\n",
      "VOLT: 1.8009\n",
      "\n",
      "IO1.8\n",
      "CUR : 0.0003\n",
      "VOLT: 0.85\n"
     ]
    }
   ],
   "source": [
    "measure_all()"
   ]
  },
  {
   "cell_type": "code",
   "execution_count": 11,
   "metadata": {},
   "outputs": [
    {
     "data": {
      "text/plain": [
       "u'+5.00000000E-01\\n'"
      ]
     },
     "execution_count": 11,
     "metadata": {},
     "output_type": "execute_result"
    }
   ],
   "source": [
    "supply_core.write('CURRENT 0.5')\n",
    "supply_core.query('CURR?')"
   ]
  },
  {
   "cell_type": "code",
   "execution_count": 28,
   "metadata": {},
   "outputs": [
    {
     "name": "stdout",
     "output_type": "stream",
     "text": [
      "CORE VDD OFF\n",
      "+9.47118000E-05;+3.73037500E-03\n",
      "\n",
      "TEST VDD OFF\n",
      "+4.17086600E-03;+3.91808000E-03\n",
      "\n",
      "IO VDDs OFF\n",
      "-1.08350800E-03;+4.12601700E-03\n",
      "\n"
     ]
    }
   ],
   "source": [
    "turn_off_all()"
   ]
  },
  {
   "cell_type": "code",
   "execution_count": 209,
   "metadata": {},
   "outputs": [
    {
     "name": "stdout",
     "output_type": "stream",
     "text": [
      "CORE VDD ON\n",
      "+1.34854800E-04;+7.04794400E-01\n",
      "\n"
     ]
    }
   ],
   "source": [
    "turn_on_core()"
   ]
  },
  {
   "cell_type": "code",
   "execution_count": 307,
   "metadata": {},
   "outputs": [],
   "source": [
    "turn_off(func_gen)"
   ]
  },
  {
   "cell_type": "code",
   "execution_count": 264,
   "metadata": {},
   "outputs": [
    {
     "name": "stdout",
     "output_type": "stream",
     "text": [
      "24.0\n",
      "2.0\n"
     ]
    }
   ],
   "source": [
    "func_gen.write('OUTP1:DIV 2')\n",
    "print(float(func_gen.query('FREQ?'))/1000000)\n",
    "print(float(func_gen.query('OUTP1:DIV?')))"
   ]
  },
  {
   "cell_type": "code",
   "execution_count": 33,
   "metadata": {},
   "outputs": [],
   "source": [
    "autoset()"
   ]
  },
  {
   "cell_type": "code",
   "execution_count": 21,
   "metadata": {},
   "outputs": [
    {
     "ename": "ValueError",
     "evalue": "could not convert string to float: '2.96E+05H'",
     "output_type": "error",
     "traceback": [
      "\u001b[0;31m---------------------------------------------------------------------------\u001b[0m",
      "\u001b[0;31mValueError\u001b[0m                                Traceback (most recent call last)",
      "\u001b[0;32m<ipython-input-21-e054a2b8cba5>\u001b[0m in \u001b[0;36m<module>\u001b[0;34m\u001b[0m\n\u001b[0;32m----> 1\u001b[0;31m \u001b[0mosc_measure_freq\u001b[0m\u001b[0;34m(\u001b[0m\u001b[0;36m1\u001b[0m\u001b[0;34m)\u001b[0m\u001b[0;34m\u001b[0m\u001b[0;34m\u001b[0m\u001b[0m\n\u001b[0m",
      "\u001b[0;32m~/projects/i22j_test/power_control.py\u001b[0m in \u001b[0;36mosc_measure_freq\u001b[0;34m(channel)\u001b[0m\n\u001b[1;32m     44\u001b[0m \u001b[0;34m\u001b[0m\u001b[0m\n\u001b[1;32m     45\u001b[0m \u001b[0;32mdef\u001b[0m \u001b[0mosc_measure_freq\u001b[0m\u001b[0;34m(\u001b[0m\u001b[0mchannel\u001b[0m \u001b[0;34m=\u001b[0m \u001b[0;36m1\u001b[0m\u001b[0;34m)\u001b[0m\u001b[0;34m:\u001b[0m\u001b[0;34m\u001b[0m\u001b[0;34m\u001b[0m\u001b[0m\n\u001b[0;32m---> 46\u001b[0;31m     \u001b[0mprint\u001b[0m\u001b[0;34m(\u001b[0m\u001b[0;34mf\"FREQ: {float(osc.query(f'C{channel}:PAVA? FREQ')[13:-3])}\"\u001b[0m\u001b[0;34m)\u001b[0m\u001b[0;34m\u001b[0m\u001b[0;34m\u001b[0m\u001b[0m\n\u001b[0m\u001b[1;32m     47\u001b[0m     \u001b[0mprint\u001b[0m\u001b[0;34m(\u001b[0m\u001b[0;34mf\"PER: {float(osc.query(f'C{channel}:PAVA? PER')[12:-2])}\"\u001b[0m\u001b[0;34m)\u001b[0m\u001b[0;34m\u001b[0m\u001b[0;34m\u001b[0m\u001b[0m\n\u001b[1;32m     48\u001b[0m \u001b[0;34m\u001b[0m\u001b[0m\n",
      "\u001b[0;31mValueError\u001b[0m: could not convert string to float: '2.96E+05H'"
     ]
    }
   ],
   "source": [
    "osc_measure_freq(1)"
   ]
  },
  {
   "cell_type": "code",
   "execution_count": 43,
   "metadata": {},
   "outputs": [
    {
     "ename": "ValueError",
     "evalue": "could not convert string to float: '**'",
     "output_type": "error",
     "traceback": [
      "\u001b[0;31m---------------------------------------------------------------------------\u001b[0m",
      "\u001b[0;31mValueError\u001b[0m                                Traceback (most recent call last)",
      "\u001b[0;32m<ipython-input-43-7d6375506672>\u001b[0m in \u001b[0;36m<module>\u001b[0;34m\u001b[0m\n\u001b[0;32m----> 1\u001b[0;31m \u001b[0mfloat\u001b[0m\u001b[0;34m(\u001b[0m\u001b[0mosc\u001b[0m\u001b[0;34m.\u001b[0m\u001b[0mquery\u001b[0m\u001b[0;34m(\u001b[0m\u001b[0;34mf'C1:PAVA? FREQ'\u001b[0m\u001b[0;34m)\u001b[0m\u001b[0;34m[\u001b[0m\u001b[0;36m13\u001b[0m\u001b[0;34m:\u001b[0m\u001b[0;34m-\u001b[0m\u001b[0;36m3\u001b[0m\u001b[0;34m]\u001b[0m\u001b[0;34m)\u001b[0m\u001b[0;34m\u001b[0m\u001b[0;34m\u001b[0m\u001b[0m\n\u001b[0m",
      "\u001b[0;31mValueError\u001b[0m: could not convert string to float: '**'"
     ]
    }
   ],
   "source": [
    "float(osc.query(f'C1:PAVA? FREQ')[13:-3])"
   ]
  },
  {
   "cell_type": "code",
   "execution_count": 40,
   "metadata": {},
   "outputs": [
    {
     "data": {
      "text/plain": [
       "'C1:PAVA PER,****\\n'"
      ]
     },
     "execution_count": 40,
     "metadata": {},
     "output_type": "execute_result"
    }
   ],
   "source": [
    "osc.query(f'C1:PAVA? PER')"
   ]
  }
 ],
 "metadata": {
  "kernelspec": {
   "display_name": "Python 3",
   "language": "python",
   "name": "python3"
  },
  "language_info": {
   "codemirror_mode": {
    "name": "ipython",
    "version": 3
   },
   "file_extension": ".py",
   "mimetype": "text/x-python",
   "name": "python",
   "nbconvert_exporter": "python",
   "pygments_lexer": "ipython3",
   "version": "3.6.9"
  }
 },
 "nbformat": 4,
 "nbformat_minor": 2
}
